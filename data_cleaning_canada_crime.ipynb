{
 "cells": [
  {
   "cell_type": "markdown",
   "metadata": {},
   "source": [
    "# Data Cleaning for the dataset containing crimes in Canada."
   ]
  },
  {
   "cell_type": "markdown",
   "metadata": {},
   "source": [
    "Import the required packages."
   ]
  },
  {
   "cell_type": "code",
   "execution_count": 1,
   "metadata": {},
   "outputs": [],
   "source": [
    "import os\n",
    "import re\n",
    "import time\n",
    "import pandas as pd"
   ]
  },
  {
   "cell_type": "code",
   "execution_count": 2,
   "metadata": {},
   "outputs": [],
   "source": [
    "t0 = time.time()"
   ]
  },
  {
   "cell_type": "markdown",
   "metadata": {},
   "source": [
    "Import dataset."
   ]
  },
  {
   "cell_type": "code",
   "execution_count": 3,
   "metadata": {},
   "outputs": [
    {
     "data": {
      "text/html": [
       "<div>\n",
       "<style scoped>\n",
       "    .dataframe tbody tr th:only-of-type {\n",
       "        vertical-align: middle;\n",
       "    }\n",
       "\n",
       "    .dataframe tbody tr th {\n",
       "        vertical-align: top;\n",
       "    }\n",
       "\n",
       "    .dataframe thead th {\n",
       "        text-align: right;\n",
       "    }\n",
       "</style>\n",
       "<table border=\"1\" class=\"dataframe\">\n",
       "  <thead>\n",
       "    <tr style=\"text-align: right;\">\n",
       "      <th></th>\n",
       "      <th>REF_DATE</th>\n",
       "      <th>GEO</th>\n",
       "      <th>Violations</th>\n",
       "      <th>Statistics</th>\n",
       "      <th>VALUE</th>\n",
       "    </tr>\n",
       "  </thead>\n",
       "  <tbody>\n",
       "    <tr>\n",
       "      <th>0</th>\n",
       "      <td>2000</td>\n",
       "      <td>Canada</td>\n",
       "      <td>Homicide [110]</td>\n",
       "      <td>Actual incidents</td>\n",
       "      <td>546.0</td>\n",
       "    </tr>\n",
       "    <tr>\n",
       "      <th>1</th>\n",
       "      <td>2001</td>\n",
       "      <td>Canada</td>\n",
       "      <td>Homicide [110]</td>\n",
       "      <td>Actual incidents</td>\n",
       "      <td>553.0</td>\n",
       "    </tr>\n",
       "    <tr>\n",
       "      <th>2</th>\n",
       "      <td>2002</td>\n",
       "      <td>Canada</td>\n",
       "      <td>Homicide [110]</td>\n",
       "      <td>Actual incidents</td>\n",
       "      <td>582.0</td>\n",
       "    </tr>\n",
       "    <tr>\n",
       "      <th>3</th>\n",
       "      <td>2003</td>\n",
       "      <td>Canada</td>\n",
       "      <td>Homicide [110]</td>\n",
       "      <td>Actual incidents</td>\n",
       "      <td>549.0</td>\n",
       "    </tr>\n",
       "    <tr>\n",
       "      <th>4</th>\n",
       "      <td>2004</td>\n",
       "      <td>Canada</td>\n",
       "      <td>Homicide [110]</td>\n",
       "      <td>Actual incidents</td>\n",
       "      <td>624.0</td>\n",
       "    </tr>\n",
       "  </tbody>\n",
       "</table>\n",
       "</div>"
      ],
      "text/plain": [
       "   REF_DATE     GEO      Violations        Statistics  VALUE\n",
       "0      2000  Canada  Homicide [110]  Actual incidents  546.0\n",
       "1      2001  Canada  Homicide [110]  Actual incidents  553.0\n",
       "2      2002  Canada  Homicide [110]  Actual incidents  582.0\n",
       "3      2003  Canada  Homicide [110]  Actual incidents  549.0\n",
       "4      2004  Canada  Homicide [110]  Actual incidents  624.0"
      ]
     },
     "execution_count": 3,
     "metadata": {},
     "output_type": "execute_result"
    }
   ],
   "source": [
    "path = os.getcwd()+ \"/untidy_crime_canada_dataset.csv\"\n",
    "data = pd.read_csv(path)\n",
    "data.head()"
   ]
  },
  {
   "cell_type": "code",
   "execution_count": 4,
   "metadata": {},
   "outputs": [
    {
     "name": "stdout",
     "output_type": "stream",
     "text": [
      "The dataset has 10046 number of rows and  5 number of columns.\n"
     ]
    }
   ],
   "source": [
    "print(\"The dataset has\",data.shape[0],\"number of rows and \",data.shape[1],\"number of columns.\")"
   ]
  },
  {
   "cell_type": "markdown",
   "metadata": {},
   "source": [
    "Rename the columns."
   ]
  },
  {
   "cell_type": "code",
   "execution_count": 5,
   "metadata": {},
   "outputs": [],
   "source": [
    "data.rename(\n",
    "    columns = {\n",
    "        'REF_DATE' : 'year',\n",
    "        'GEO' : 'location',\n",
    "        'Violations' : 'type_of_crime',\n",
    "        'Statistics' : 'parameter',\n",
    "        'VALUE' : 'count' \n",
    "    },\n",
    "    inplace = True\n",
    ")\n"
   ]
  },
  {
   "cell_type": "code",
   "execution_count": 6,
   "metadata": {},
   "outputs": [
    {
     "data": {
      "text/html": [
       "<div>\n",
       "<style scoped>\n",
       "    .dataframe tbody tr th:only-of-type {\n",
       "        vertical-align: middle;\n",
       "    }\n",
       "\n",
       "    .dataframe tbody tr th {\n",
       "        vertical-align: top;\n",
       "    }\n",
       "\n",
       "    .dataframe thead th {\n",
       "        text-align: right;\n",
       "    }\n",
       "</style>\n",
       "<table border=\"1\" class=\"dataframe\">\n",
       "  <thead>\n",
       "    <tr style=\"text-align: right;\">\n",
       "      <th></th>\n",
       "      <th>year</th>\n",
       "      <th>location</th>\n",
       "      <th>type_of_crime</th>\n",
       "      <th>parameter</th>\n",
       "      <th>count</th>\n",
       "    </tr>\n",
       "  </thead>\n",
       "  <tbody>\n",
       "    <tr>\n",
       "      <th>0</th>\n",
       "      <td>2000</td>\n",
       "      <td>Canada</td>\n",
       "      <td>Homicide [110]</td>\n",
       "      <td>Actual incidents</td>\n",
       "      <td>546.0</td>\n",
       "    </tr>\n",
       "    <tr>\n",
       "      <th>1</th>\n",
       "      <td>2001</td>\n",
       "      <td>Canada</td>\n",
       "      <td>Homicide [110]</td>\n",
       "      <td>Actual incidents</td>\n",
       "      <td>553.0</td>\n",
       "    </tr>\n",
       "    <tr>\n",
       "      <th>2</th>\n",
       "      <td>2002</td>\n",
       "      <td>Canada</td>\n",
       "      <td>Homicide [110]</td>\n",
       "      <td>Actual incidents</td>\n",
       "      <td>582.0</td>\n",
       "    </tr>\n",
       "    <tr>\n",
       "      <th>3</th>\n",
       "      <td>2003</td>\n",
       "      <td>Canada</td>\n",
       "      <td>Homicide [110]</td>\n",
       "      <td>Actual incidents</td>\n",
       "      <td>549.0</td>\n",
       "    </tr>\n",
       "    <tr>\n",
       "      <th>4</th>\n",
       "      <td>2004</td>\n",
       "      <td>Canada</td>\n",
       "      <td>Homicide [110]</td>\n",
       "      <td>Actual incidents</td>\n",
       "      <td>624.0</td>\n",
       "    </tr>\n",
       "  </tbody>\n",
       "</table>\n",
       "</div>"
      ],
      "text/plain": [
       "   year location   type_of_crime         parameter  count\n",
       "0  2000   Canada  Homicide [110]  Actual incidents  546.0\n",
       "1  2001   Canada  Homicide [110]  Actual incidents  553.0\n",
       "2  2002   Canada  Homicide [110]  Actual incidents  582.0\n",
       "3  2003   Canada  Homicide [110]  Actual incidents  549.0\n",
       "4  2004   Canada  Homicide [110]  Actual incidents  624.0"
      ]
     },
     "execution_count": 6,
     "metadata": {},
     "output_type": "execute_result"
    }
   ],
   "source": [
    "data.head()"
   ]
  },
  {
   "cell_type": "markdown",
   "metadata": {},
   "source": [
    "See unique values in the **location** column."
   ]
  },
  {
   "cell_type": "code",
   "execution_count": 7,
   "metadata": {},
   "outputs": [
    {
     "data": {
      "text/plain": [
       "array(['Canada', 'Newfoundland and Labrador [10]',\n",
       "       'Prince Edward Island [11]', 'Nova Scotia [12]',\n",
       "       'New Brunswick [13]', 'Quebec [24]', 'Ontario [35]',\n",
       "       'Manitoba [46]', 'Saskatchewan [47]', 'Alberta [48]',\n",
       "       'British Columbia [59]', 'Yukon [60]',\n",
       "       'Northwest Territories [61]', 'Nunavut [62]'], dtype=object)"
      ]
     },
     "execution_count": 7,
     "metadata": {},
     "output_type": "execute_result"
    }
   ],
   "source": [
    "data.location.unique()"
   ]
  },
  {
   "cell_type": "markdown",
   "metadata": {},
   "source": [
    "Remove all the digits and squared brackets from the entries in the **location** column."
   ]
  },
  {
   "cell_type": "code",
   "execution_count": 8,
   "metadata": {},
   "outputs": [],
   "source": [
    "data.location = data.location.str.extract(r'(\\w{0,10}\\s*\\w{0,10}\\s*\\w{0,10}\\s*\\w{0,10})')"
   ]
  },
  {
   "cell_type": "code",
   "execution_count": 9,
   "metadata": {},
   "outputs": [
    {
     "data": {
      "text/plain": [
       "array(['Canada', 'Newfoundland and Labrador', 'Prince Edward Island ',\n",
       "       'Nova Scotia ', 'New Brunswick ', 'Quebec ', 'Ontario ',\n",
       "       'Manitoba ', 'Saskatchewan ', 'Alberta ', 'British Columbia ',\n",
       "       'Yukon ', 'Northwest Territories ', 'Nunavut '], dtype=object)"
      ]
     },
     "execution_count": 9,
     "metadata": {},
     "output_type": "execute_result"
    }
   ],
   "source": [
    "data.location.unique()"
   ]
  },
  {
   "cell_type": "code",
   "execution_count": 10,
   "metadata": {},
   "outputs": [
    {
     "data": {
      "text/html": [
       "<div>\n",
       "<style scoped>\n",
       "    .dataframe tbody tr th:only-of-type {\n",
       "        vertical-align: middle;\n",
       "    }\n",
       "\n",
       "    .dataframe tbody tr th {\n",
       "        vertical-align: top;\n",
       "    }\n",
       "\n",
       "    .dataframe thead th {\n",
       "        text-align: right;\n",
       "    }\n",
       "</style>\n",
       "<table border=\"1\" class=\"dataframe\">\n",
       "  <thead>\n",
       "    <tr style=\"text-align: right;\">\n",
       "      <th></th>\n",
       "      <th>year</th>\n",
       "      <th>location</th>\n",
       "      <th>type_of_crime</th>\n",
       "      <th>parameter</th>\n",
       "      <th>count</th>\n",
       "    </tr>\n",
       "  </thead>\n",
       "  <tbody>\n",
       "    <tr>\n",
       "      <th>0</th>\n",
       "      <td>2000</td>\n",
       "      <td>Canada</td>\n",
       "      <td>Homicide [110]</td>\n",
       "      <td>Actual incidents</td>\n",
       "      <td>546.0</td>\n",
       "    </tr>\n",
       "    <tr>\n",
       "      <th>1</th>\n",
       "      <td>2001</td>\n",
       "      <td>Canada</td>\n",
       "      <td>Homicide [110]</td>\n",
       "      <td>Actual incidents</td>\n",
       "      <td>553.0</td>\n",
       "    </tr>\n",
       "    <tr>\n",
       "      <th>2</th>\n",
       "      <td>2002</td>\n",
       "      <td>Canada</td>\n",
       "      <td>Homicide [110]</td>\n",
       "      <td>Actual incidents</td>\n",
       "      <td>582.0</td>\n",
       "    </tr>\n",
       "    <tr>\n",
       "      <th>3</th>\n",
       "      <td>2003</td>\n",
       "      <td>Canada</td>\n",
       "      <td>Homicide [110]</td>\n",
       "      <td>Actual incidents</td>\n",
       "      <td>549.0</td>\n",
       "    </tr>\n",
       "    <tr>\n",
       "      <th>4</th>\n",
       "      <td>2004</td>\n",
       "      <td>Canada</td>\n",
       "      <td>Homicide [110]</td>\n",
       "      <td>Actual incidents</td>\n",
       "      <td>624.0</td>\n",
       "    </tr>\n",
       "  </tbody>\n",
       "</table>\n",
       "</div>"
      ],
      "text/plain": [
       "   year location   type_of_crime         parameter  count\n",
       "0  2000   Canada  Homicide [110]  Actual incidents  546.0\n",
       "1  2001   Canada  Homicide [110]  Actual incidents  553.0\n",
       "2  2002   Canada  Homicide [110]  Actual incidents  582.0\n",
       "3  2003   Canada  Homicide [110]  Actual incidents  549.0\n",
       "4  2004   Canada  Homicide [110]  Actual incidents  624.0"
      ]
     },
     "execution_count": 10,
     "metadata": {},
     "output_type": "execute_result"
    }
   ],
   "source": [
    "data.head()"
   ]
  },
  {
   "cell_type": "code",
   "execution_count": 11,
   "metadata": {},
   "outputs": [
    {
     "data": {
      "text/plain": [
       "array(['Homicide [110]', 'Attempted murder [1210]',\n",
       "       'Total sexual violations against children [130]',\n",
       "       'Total firearms, use of, discharge, pointing [150]',\n",
       "       'Total robbery [160]', 'Total theft of motor vehicle [220]',\n",
       "       'Total theft over $5,000 (non-motor vehicle) [230]',\n",
       "       'Total theft under $5,000 (non-motor vehicle) [240]',\n",
       "       'Fraud [2160]', 'Counterfeiting [3420]',\n",
       "       'Total weapons violations [310]',\n",
       "       'Making, or distribution of child pornography [3456]',\n",
       "       'Total prostitution [320]', 'Trespass at night [3490]',\n",
       "       'Public incitement of hatred [3560]',\n",
       "       'Facilitate terrorist activity [3714]',\n",
       "       'Total impaired driving [910]', 'Total drug violations [401]'],\n",
       "      dtype=object)"
      ]
     },
     "execution_count": 11,
     "metadata": {},
     "output_type": "execute_result"
    }
   ],
   "source": [
    "data.type_of_crime.unique()"
   ]
  },
  {
   "cell_type": "markdown",
   "metadata": {},
   "source": [
    "Remove all the digits and squared brackets from the entries in the **type_of_crime** column."
   ]
  },
  {
   "cell_type": "code",
   "execution_count": 12,
   "metadata": {},
   "outputs": [],
   "source": [
    "old_entries = ['Homicide [110]', 'Attempted murder [1210]','Total sexual violations against children [130]',\n",
    "'Total firearms, use of, discharge, pointing [150]', 'Total robbery [160]', \n",
    "'Total theft of motor vehicle [220]', 'Total theft over $5,000 (non-motor vehicle) [230]',\n",
    "'Total theft under $5,000 (non-motor vehicle) [240]','Fraud [2160]', 'Counterfeiting [3420]',\n",
    "'Total weapons violations [310]', 'Making, or distribution of child pornography [3456]', \n",
    "'Total prostitution [320]', 'Trespass at night [3490]',\n",
    "'Public incitement of hatred [3560]', 'Facilitate terrorist activity [3714]',\n",
    "'Total impaired driving [910]', 'Total drug violations [401]']\n",
    "new_entries = ['Homicide', 'Attempted murder','Sexual violations against children',\n",
    "'Firearms related crime', 'Robbery', \n",
    "'Motor vehicle theft', 'Theft over $5,000',\n",
    "'Theft under $5,000','Fraud', 'Counterfeiting',\n",
    "'Weapons violations', 'Child pornography', \n",
    "'Prostitution', 'Trespass',\n",
    "'Public incitement of hatred', 'Facilitate terrorist activit',\n",
    "'Impaired driving', 'Drug violations']"
   ]
  },
  {
   "cell_type": "code",
   "execution_count": 13,
   "metadata": {},
   "outputs": [],
   "source": [
    "for i in range(0,len(data.type_of_crime.unique())):\n",
    "    data.type_of_crime.replace(old_entries[i], new_entries[i], inplace = True)"
   ]
  },
  {
   "cell_type": "code",
   "execution_count": 14,
   "metadata": {},
   "outputs": [
    {
     "data": {
      "text/plain": [
       "array(['Homicide', 'Attempted murder',\n",
       "       'Sexual violations against children', 'Firearms related crime',\n",
       "       'Robbery', 'Motor vehicle theft', 'Theft over $5,000',\n",
       "       'Theft under $5,000', 'Fraud', 'Counterfeiting',\n",
       "       'Weapons violations', 'Child pornography', 'Prostitution',\n",
       "       'Trespass', 'Public incitement of hatred',\n",
       "       'Facilitate terrorist activit', 'Impaired driving',\n",
       "       'Drug violations'], dtype=object)"
      ]
     },
     "execution_count": 14,
     "metadata": {},
     "output_type": "execute_result"
    }
   ],
   "source": [
    "data.type_of_crime.unique()"
   ]
  },
  {
   "cell_type": "code",
   "execution_count": 15,
   "metadata": {},
   "outputs": [
    {
     "data": {
      "text/html": [
       "<div>\n",
       "<style scoped>\n",
       "    .dataframe tbody tr th:only-of-type {\n",
       "        vertical-align: middle;\n",
       "    }\n",
       "\n",
       "    .dataframe tbody tr th {\n",
       "        vertical-align: top;\n",
       "    }\n",
       "\n",
       "    .dataframe thead th {\n",
       "        text-align: right;\n",
       "    }\n",
       "</style>\n",
       "<table border=\"1\" class=\"dataframe\">\n",
       "  <thead>\n",
       "    <tr style=\"text-align: right;\">\n",
       "      <th></th>\n",
       "      <th>year</th>\n",
       "      <th>location</th>\n",
       "      <th>type_of_crime</th>\n",
       "      <th>parameter</th>\n",
       "      <th>count</th>\n",
       "    </tr>\n",
       "  </thead>\n",
       "  <tbody>\n",
       "    <tr>\n",
       "      <th>0</th>\n",
       "      <td>2000</td>\n",
       "      <td>Canada</td>\n",
       "      <td>Homicide</td>\n",
       "      <td>Actual incidents</td>\n",
       "      <td>546.0</td>\n",
       "    </tr>\n",
       "    <tr>\n",
       "      <th>1</th>\n",
       "      <td>2001</td>\n",
       "      <td>Canada</td>\n",
       "      <td>Homicide</td>\n",
       "      <td>Actual incidents</td>\n",
       "      <td>553.0</td>\n",
       "    </tr>\n",
       "    <tr>\n",
       "      <th>2</th>\n",
       "      <td>2002</td>\n",
       "      <td>Canada</td>\n",
       "      <td>Homicide</td>\n",
       "      <td>Actual incidents</td>\n",
       "      <td>582.0</td>\n",
       "    </tr>\n",
       "    <tr>\n",
       "      <th>3</th>\n",
       "      <td>2003</td>\n",
       "      <td>Canada</td>\n",
       "      <td>Homicide</td>\n",
       "      <td>Actual incidents</td>\n",
       "      <td>549.0</td>\n",
       "    </tr>\n",
       "    <tr>\n",
       "      <th>4</th>\n",
       "      <td>2004</td>\n",
       "      <td>Canada</td>\n",
       "      <td>Homicide</td>\n",
       "      <td>Actual incidents</td>\n",
       "      <td>624.0</td>\n",
       "    </tr>\n",
       "  </tbody>\n",
       "</table>\n",
       "</div>"
      ],
      "text/plain": [
       "   year location type_of_crime         parameter  count\n",
       "0  2000   Canada      Homicide  Actual incidents  546.0\n",
       "1  2001   Canada      Homicide  Actual incidents  553.0\n",
       "2  2002   Canada      Homicide  Actual incidents  582.0\n",
       "3  2003   Canada      Homicide  Actual incidents  549.0\n",
       "4  2004   Canada      Homicide  Actual incidents  624.0"
      ]
     },
     "execution_count": 15,
     "metadata": {},
     "output_type": "execute_result"
    }
   ],
   "source": [
    "data.head()"
   ]
  },
  {
   "cell_type": "code",
   "execution_count": 16,
   "metadata": {},
   "outputs": [
    {
     "data": {
      "text/plain": [
       "array(['Actual incidents', 'Rate per 100,000 population'], dtype=object)"
      ]
     },
     "execution_count": 16,
     "metadata": {},
     "output_type": "execute_result"
    }
   ],
   "source": [
    "data.parameter.unique()"
   ]
  },
  {
   "cell_type": "code",
   "execution_count": 17,
   "metadata": {},
   "outputs": [],
   "source": [
    "data.parameter = data.parameter.replace('Actual incidents', 'incidents')\n",
    "data.parameter = data.parameter.replace('Rate per 100,000 population', 'rate_per_100k')"
   ]
  },
  {
   "cell_type": "code",
   "execution_count": 18,
   "metadata": {},
   "outputs": [
    {
     "data": {
      "text/html": [
       "<div>\n",
       "<style scoped>\n",
       "    .dataframe tbody tr th:only-of-type {\n",
       "        vertical-align: middle;\n",
       "    }\n",
       "\n",
       "    .dataframe tbody tr th {\n",
       "        vertical-align: top;\n",
       "    }\n",
       "\n",
       "    .dataframe thead th {\n",
       "        text-align: right;\n",
       "    }\n",
       "</style>\n",
       "<table border=\"1\" class=\"dataframe\">\n",
       "  <thead>\n",
       "    <tr style=\"text-align: right;\">\n",
       "      <th></th>\n",
       "      <th>year</th>\n",
       "      <th>location</th>\n",
       "      <th>type_of_crime</th>\n",
       "      <th>parameter</th>\n",
       "      <th>count</th>\n",
       "    </tr>\n",
       "  </thead>\n",
       "  <tbody>\n",
       "    <tr>\n",
       "      <th>0</th>\n",
       "      <td>2000</td>\n",
       "      <td>Canada</td>\n",
       "      <td>Homicide</td>\n",
       "      <td>incidents</td>\n",
       "      <td>546.0</td>\n",
       "    </tr>\n",
       "    <tr>\n",
       "      <th>1</th>\n",
       "      <td>2001</td>\n",
       "      <td>Canada</td>\n",
       "      <td>Homicide</td>\n",
       "      <td>incidents</td>\n",
       "      <td>553.0</td>\n",
       "    </tr>\n",
       "    <tr>\n",
       "      <th>2</th>\n",
       "      <td>2002</td>\n",
       "      <td>Canada</td>\n",
       "      <td>Homicide</td>\n",
       "      <td>incidents</td>\n",
       "      <td>582.0</td>\n",
       "    </tr>\n",
       "    <tr>\n",
       "      <th>3</th>\n",
       "      <td>2003</td>\n",
       "      <td>Canada</td>\n",
       "      <td>Homicide</td>\n",
       "      <td>incidents</td>\n",
       "      <td>549.0</td>\n",
       "    </tr>\n",
       "    <tr>\n",
       "      <th>4</th>\n",
       "      <td>2004</td>\n",
       "      <td>Canada</td>\n",
       "      <td>Homicide</td>\n",
       "      <td>incidents</td>\n",
       "      <td>624.0</td>\n",
       "    </tr>\n",
       "  </tbody>\n",
       "</table>\n",
       "</div>"
      ],
      "text/plain": [
       "   year location type_of_crime  parameter  count\n",
       "0  2000   Canada      Homicide  incidents  546.0\n",
       "1  2001   Canada      Homicide  incidents  553.0\n",
       "2  2002   Canada      Homicide  incidents  582.0\n",
       "3  2003   Canada      Homicide  incidents  549.0\n",
       "4  2004   Canada      Homicide  incidents  624.0"
      ]
     },
     "execution_count": 18,
     "metadata": {},
     "output_type": "execute_result"
    }
   ],
   "source": [
    "data.head()"
   ]
  },
  {
   "cell_type": "markdown",
   "metadata": {},
   "source": [
    "Check datatypes"
   ]
  },
  {
   "cell_type": "code",
   "execution_count": 19,
   "metadata": {},
   "outputs": [
    {
     "data": {
      "text/plain": [
       "year               int64\n",
       "location          object\n",
       "type_of_crime     object\n",
       "parameter         object\n",
       "count            float64\n",
       "dtype: object"
      ]
     },
     "execution_count": 19,
     "metadata": {},
     "output_type": "execute_result"
    }
   ],
   "source": [
    "data.dtypes"
   ]
  },
  {
   "cell_type": "markdown",
   "metadata": {},
   "source": [
    "Check missing values."
   ]
  },
  {
   "cell_type": "code",
   "execution_count": 20,
   "metadata": {},
   "outputs": [
    {
     "data": {
      "text/plain": [
       "year               0\n",
       "location           0\n",
       "type_of_crime      0\n",
       "parameter          0\n",
       "count            135\n",
       "dtype: int64"
      ]
     },
     "execution_count": 20,
     "metadata": {},
     "output_type": "execute_result"
    }
   ],
   "source": [
    "data.isnull().sum()"
   ]
  },
  {
   "cell_type": "markdown",
   "metadata": {},
   "source": [
    "Fill all missing values with zeros."
   ]
  },
  {
   "cell_type": "code",
   "execution_count": 21,
   "metadata": {},
   "outputs": [],
   "source": [
    "data.fillna(value = 0, inplace = True)"
   ]
  },
  {
   "cell_type": "code",
   "execution_count": 22,
   "metadata": {},
   "outputs": [
    {
     "data": {
      "text/plain": [
       "year             0\n",
       "location         0\n",
       "type_of_crime    0\n",
       "parameter        0\n",
       "count            0\n",
       "dtype: int64"
      ]
     },
     "execution_count": 22,
     "metadata": {},
     "output_type": "execute_result"
    }
   ],
   "source": [
    "data.isnull().sum()"
   ]
  },
  {
   "cell_type": "code",
   "execution_count": 23,
   "metadata": {},
   "outputs": [
    {
     "data": {
      "text/html": [
       "<div>\n",
       "<style scoped>\n",
       "    .dataframe tbody tr th:only-of-type {\n",
       "        vertical-align: middle;\n",
       "    }\n",
       "\n",
       "    .dataframe tbody tr th {\n",
       "        vertical-align: top;\n",
       "    }\n",
       "\n",
       "    .dataframe thead th {\n",
       "        text-align: right;\n",
       "    }\n",
       "</style>\n",
       "<table border=\"1\" class=\"dataframe\">\n",
       "  <thead>\n",
       "    <tr style=\"text-align: right;\">\n",
       "      <th></th>\n",
       "      <th>year</th>\n",
       "      <th>location</th>\n",
       "      <th>type_of_crime</th>\n",
       "      <th>parameter</th>\n",
       "      <th>count</th>\n",
       "    </tr>\n",
       "  </thead>\n",
       "  <tbody>\n",
       "    <tr>\n",
       "      <th>0</th>\n",
       "      <td>2000</td>\n",
       "      <td>Canada</td>\n",
       "      <td>Homicide</td>\n",
       "      <td>incidents</td>\n",
       "      <td>546.00</td>\n",
       "    </tr>\n",
       "    <tr>\n",
       "      <th>1</th>\n",
       "      <td>2001</td>\n",
       "      <td>Canada</td>\n",
       "      <td>Homicide</td>\n",
       "      <td>incidents</td>\n",
       "      <td>553.00</td>\n",
       "    </tr>\n",
       "    <tr>\n",
       "      <th>2</th>\n",
       "      <td>2002</td>\n",
       "      <td>Canada</td>\n",
       "      <td>Homicide</td>\n",
       "      <td>incidents</td>\n",
       "      <td>582.00</td>\n",
       "    </tr>\n",
       "    <tr>\n",
       "      <th>3</th>\n",
       "      <td>2003</td>\n",
       "      <td>Canada</td>\n",
       "      <td>Homicide</td>\n",
       "      <td>incidents</td>\n",
       "      <td>549.00</td>\n",
       "    </tr>\n",
       "    <tr>\n",
       "      <th>4</th>\n",
       "      <td>2004</td>\n",
       "      <td>Canada</td>\n",
       "      <td>Homicide</td>\n",
       "      <td>incidents</td>\n",
       "      <td>624.00</td>\n",
       "    </tr>\n",
       "    <tr>\n",
       "      <th>...</th>\n",
       "      <td>...</td>\n",
       "      <td>...</td>\n",
       "      <td>...</td>\n",
       "      <td>...</td>\n",
       "      <td>...</td>\n",
       "    </tr>\n",
       "    <tr>\n",
       "      <th>10041</th>\n",
       "      <td>2016</td>\n",
       "      <td>Nunavut</td>\n",
       "      <td>Drug violations</td>\n",
       "      <td>rate_per_100k</td>\n",
       "      <td>549.02</td>\n",
       "    </tr>\n",
       "    <tr>\n",
       "      <th>10042</th>\n",
       "      <td>2017</td>\n",
       "      <td>Nunavut</td>\n",
       "      <td>Drug violations</td>\n",
       "      <td>rate_per_100k</td>\n",
       "      <td>383.53</td>\n",
       "    </tr>\n",
       "    <tr>\n",
       "      <th>10043</th>\n",
       "      <td>2018</td>\n",
       "      <td>Nunavut</td>\n",
       "      <td>Drug violations</td>\n",
       "      <td>rate_per_100k</td>\n",
       "      <td>272.66</td>\n",
       "    </tr>\n",
       "    <tr>\n",
       "      <th>10044</th>\n",
       "      <td>2019</td>\n",
       "      <td>Nunavut</td>\n",
       "      <td>Drug violations</td>\n",
       "      <td>rate_per_100k</td>\n",
       "      <td>98.41</td>\n",
       "    </tr>\n",
       "    <tr>\n",
       "      <th>10045</th>\n",
       "      <td>2020</td>\n",
       "      <td>Nunavut</td>\n",
       "      <td>Drug violations</td>\n",
       "      <td>rate_per_100k</td>\n",
       "      <td>149.93</td>\n",
       "    </tr>\n",
       "  </tbody>\n",
       "</table>\n",
       "<p>10046 rows × 5 columns</p>\n",
       "</div>"
      ],
      "text/plain": [
       "       year  location    type_of_crime      parameter   count\n",
       "0      2000    Canada         Homicide      incidents  546.00\n",
       "1      2001    Canada         Homicide      incidents  553.00\n",
       "2      2002    Canada         Homicide      incidents  582.00\n",
       "3      2003    Canada         Homicide      incidents  549.00\n",
       "4      2004    Canada         Homicide      incidents  624.00\n",
       "...     ...       ...              ...            ...     ...\n",
       "10041  2016  Nunavut   Drug violations  rate_per_100k  549.02\n",
       "10042  2017  Nunavut   Drug violations  rate_per_100k  383.53\n",
       "10043  2018  Nunavut   Drug violations  rate_per_100k  272.66\n",
       "10044  2019  Nunavut   Drug violations  rate_per_100k   98.41\n",
       "10045  2020  Nunavut   Drug violations  rate_per_100k  149.93\n",
       "\n",
       "[10046 rows x 5 columns]"
      ]
     },
     "execution_count": 23,
     "metadata": {},
     "output_type": "execute_result"
    }
   ],
   "source": [
    "data"
   ]
  },
  {
   "cell_type": "code",
   "execution_count": 24,
   "metadata": {},
   "outputs": [
    {
     "data": {
      "text/html": [
       "<div>\n",
       "<style scoped>\n",
       "    .dataframe tbody tr th:only-of-type {\n",
       "        vertical-align: middle;\n",
       "    }\n",
       "\n",
       "    .dataframe tbody tr th {\n",
       "        vertical-align: top;\n",
       "    }\n",
       "\n",
       "    .dataframe thead th {\n",
       "        text-align: right;\n",
       "    }\n",
       "</style>\n",
       "<table border=\"1\" class=\"dataframe\">\n",
       "  <thead>\n",
       "    <tr style=\"text-align: right;\">\n",
       "      <th></th>\n",
       "      <th>year</th>\n",
       "      <th>location</th>\n",
       "      <th>type_of_crime</th>\n",
       "      <th>parameter</th>\n",
       "      <th>count</th>\n",
       "    </tr>\n",
       "  </thead>\n",
       "  <tbody>\n",
       "    <tr>\n",
       "      <th>0</th>\n",
       "      <td>2000</td>\n",
       "      <td>Canada</td>\n",
       "      <td>Homicide</td>\n",
       "      <td>incidents</td>\n",
       "      <td>546.00</td>\n",
       "    </tr>\n",
       "    <tr>\n",
       "      <th>1</th>\n",
       "      <td>2001</td>\n",
       "      <td>Canada</td>\n",
       "      <td>Homicide</td>\n",
       "      <td>incidents</td>\n",
       "      <td>553.00</td>\n",
       "    </tr>\n",
       "    <tr>\n",
       "      <th>2</th>\n",
       "      <td>2002</td>\n",
       "      <td>Canada</td>\n",
       "      <td>Homicide</td>\n",
       "      <td>incidents</td>\n",
       "      <td>582.00</td>\n",
       "    </tr>\n",
       "    <tr>\n",
       "      <th>3</th>\n",
       "      <td>2003</td>\n",
       "      <td>Canada</td>\n",
       "      <td>Homicide</td>\n",
       "      <td>incidents</td>\n",
       "      <td>549.00</td>\n",
       "    </tr>\n",
       "    <tr>\n",
       "      <th>4</th>\n",
       "      <td>2004</td>\n",
       "      <td>Canada</td>\n",
       "      <td>Homicide</td>\n",
       "      <td>incidents</td>\n",
       "      <td>624.00</td>\n",
       "    </tr>\n",
       "    <tr>\n",
       "      <th>...</th>\n",
       "      <td>...</td>\n",
       "      <td>...</td>\n",
       "      <td>...</td>\n",
       "      <td>...</td>\n",
       "      <td>...</td>\n",
       "    </tr>\n",
       "    <tr>\n",
       "      <th>10041</th>\n",
       "      <td>2016</td>\n",
       "      <td>Nunavut</td>\n",
       "      <td>Drug violations</td>\n",
       "      <td>rate_per_100k</td>\n",
       "      <td>549.02</td>\n",
       "    </tr>\n",
       "    <tr>\n",
       "      <th>10042</th>\n",
       "      <td>2017</td>\n",
       "      <td>Nunavut</td>\n",
       "      <td>Drug violations</td>\n",
       "      <td>rate_per_100k</td>\n",
       "      <td>383.53</td>\n",
       "    </tr>\n",
       "    <tr>\n",
       "      <th>10043</th>\n",
       "      <td>2018</td>\n",
       "      <td>Nunavut</td>\n",
       "      <td>Drug violations</td>\n",
       "      <td>rate_per_100k</td>\n",
       "      <td>272.66</td>\n",
       "    </tr>\n",
       "    <tr>\n",
       "      <th>10044</th>\n",
       "      <td>2019</td>\n",
       "      <td>Nunavut</td>\n",
       "      <td>Drug violations</td>\n",
       "      <td>rate_per_100k</td>\n",
       "      <td>98.41</td>\n",
       "    </tr>\n",
       "    <tr>\n",
       "      <th>10045</th>\n",
       "      <td>2020</td>\n",
       "      <td>Nunavut</td>\n",
       "      <td>Drug violations</td>\n",
       "      <td>rate_per_100k</td>\n",
       "      <td>149.93</td>\n",
       "    </tr>\n",
       "  </tbody>\n",
       "</table>\n",
       "<p>10046 rows × 5 columns</p>\n",
       "</div>"
      ],
      "text/plain": [
       "       year  location    type_of_crime      parameter   count\n",
       "0      2000    Canada         Homicide      incidents  546.00\n",
       "1      2001    Canada         Homicide      incidents  553.00\n",
       "2      2002    Canada         Homicide      incidents  582.00\n",
       "3      2003    Canada         Homicide      incidents  549.00\n",
       "4      2004    Canada         Homicide      incidents  624.00\n",
       "...     ...       ...              ...            ...     ...\n",
       "10041  2016  Nunavut   Drug violations  rate_per_100k  549.02\n",
       "10042  2017  Nunavut   Drug violations  rate_per_100k  383.53\n",
       "10043  2018  Nunavut   Drug violations  rate_per_100k  272.66\n",
       "10044  2019  Nunavut   Drug violations  rate_per_100k   98.41\n",
       "10045  2020  Nunavut   Drug violations  rate_per_100k  149.93\n",
       "\n",
       "[10046 rows x 5 columns]"
      ]
     },
     "execution_count": 24,
     "metadata": {},
     "output_type": "execute_result"
    }
   ],
   "source": [
    "data"
   ]
  },
  {
   "cell_type": "code",
   "execution_count": 25,
   "metadata": {},
   "outputs": [
    {
     "data": {
      "text/html": [
       "<div>\n",
       "<style scoped>\n",
       "    .dataframe tbody tr th:only-of-type {\n",
       "        vertical-align: middle;\n",
       "    }\n",
       "\n",
       "    .dataframe tbody tr th {\n",
       "        vertical-align: top;\n",
       "    }\n",
       "\n",
       "    .dataframe thead th {\n",
       "        text-align: right;\n",
       "    }\n",
       "</style>\n",
       "<table border=\"1\" class=\"dataframe\">\n",
       "  <thead>\n",
       "    <tr style=\"text-align: right;\">\n",
       "      <th></th>\n",
       "      <th></th>\n",
       "      <th>parameter</th>\n",
       "      <th>incidents</th>\n",
       "      <th>rate_per_100k</th>\n",
       "    </tr>\n",
       "    <tr>\n",
       "      <th>year</th>\n",
       "      <th>location</th>\n",
       "      <th>type_of_crime</th>\n",
       "      <th></th>\n",
       "      <th></th>\n",
       "    </tr>\n",
       "  </thead>\n",
       "  <tbody>\n",
       "    <tr>\n",
       "      <th rowspan=\"5\" valign=\"top\">2000</th>\n",
       "      <th rowspan=\"5\" valign=\"top\">Alberta</th>\n",
       "      <th>Attempted murder</th>\n",
       "      <td>35.0</td>\n",
       "      <td>1.16</td>\n",
       "    </tr>\n",
       "    <tr>\n",
       "      <th>Counterfeiting</th>\n",
       "      <td>137.0</td>\n",
       "      <td>4.56</td>\n",
       "    </tr>\n",
       "    <tr>\n",
       "      <th>Drug violations</th>\n",
       "      <td>6979.0</td>\n",
       "      <td>232.25</td>\n",
       "    </tr>\n",
       "    <tr>\n",
       "      <th>Firearms related crime</th>\n",
       "      <td>203.0</td>\n",
       "      <td>6.76</td>\n",
       "    </tr>\n",
       "    <tr>\n",
       "      <th>Fraud</th>\n",
       "      <td>11800.0</td>\n",
       "      <td>392.69</td>\n",
       "    </tr>\n",
       "    <tr>\n",
       "      <th>...</th>\n",
       "      <th>...</th>\n",
       "      <th>...</th>\n",
       "      <td>...</td>\n",
       "      <td>...</td>\n",
       "    </tr>\n",
       "    <tr>\n",
       "      <th rowspan=\"5\" valign=\"top\">2020</th>\n",
       "      <th rowspan=\"5\" valign=\"top\">Yukon</th>\n",
       "      <th>Sexual violations against children</th>\n",
       "      <td>27.0</td>\n",
       "      <td>64.21</td>\n",
       "    </tr>\n",
       "    <tr>\n",
       "      <th>Theft over $5,000</th>\n",
       "      <td>29.0</td>\n",
       "      <td>68.96</td>\n",
       "    </tr>\n",
       "    <tr>\n",
       "      <th>Theft under $5,000</th>\n",
       "      <td>782.0</td>\n",
       "      <td>1859.60</td>\n",
       "    </tr>\n",
       "    <tr>\n",
       "      <th>Trespass</th>\n",
       "      <td>8.0</td>\n",
       "      <td>19.02</td>\n",
       "    </tr>\n",
       "    <tr>\n",
       "      <th>Weapons violations</th>\n",
       "      <td>62.0</td>\n",
       "      <td>147.44</td>\n",
       "    </tr>\n",
       "  </tbody>\n",
       "</table>\n",
       "<p>5023 rows × 2 columns</p>\n",
       "</div>"
      ],
      "text/plain": [
       "parameter                                         incidents  rate_per_100k\n",
       "year location type_of_crime                                               \n",
       "2000 Alberta  Attempted murder                         35.0           1.16\n",
       "              Counterfeiting                          137.0           4.56\n",
       "              Drug violations                        6979.0         232.25\n",
       "              Firearms related crime                  203.0           6.76\n",
       "              Fraud                                 11800.0         392.69\n",
       "...                                                     ...            ...\n",
       "2020 Yukon    Sexual violations against children       27.0          64.21\n",
       "              Theft over $5,000                        29.0          68.96\n",
       "              Theft under $5,000                      782.0        1859.60\n",
       "              Trespass                                  8.0          19.02\n",
       "              Weapons violations                       62.0         147.44\n",
       "\n",
       "[5023 rows x 2 columns]"
      ]
     },
     "execution_count": 25,
     "metadata": {},
     "output_type": "execute_result"
    }
   ],
   "source": [
    "data_pivot = data.pivot(index = ['year', 'location', 'type_of_crime'], columns = ['parameter'], values = 'count')\n",
    "data_pivot"
   ]
  },
  {
   "cell_type": "code",
   "execution_count": 26,
   "metadata": {},
   "outputs": [
    {
     "data": {
      "text/html": [
       "<div>\n",
       "<style scoped>\n",
       "    .dataframe tbody tr th:only-of-type {\n",
       "        vertical-align: middle;\n",
       "    }\n",
       "\n",
       "    .dataframe tbody tr th {\n",
       "        vertical-align: top;\n",
       "    }\n",
       "\n",
       "    .dataframe thead th {\n",
       "        text-align: right;\n",
       "    }\n",
       "</style>\n",
       "<table border=\"1\" class=\"dataframe\">\n",
       "  <thead>\n",
       "    <tr style=\"text-align: right;\">\n",
       "      <th>parameter</th>\n",
       "      <th>year</th>\n",
       "      <th>location</th>\n",
       "      <th>type_of_crime</th>\n",
       "      <th>incidents</th>\n",
       "      <th>rate_per_100k</th>\n",
       "    </tr>\n",
       "  </thead>\n",
       "  <tbody>\n",
       "    <tr>\n",
       "      <th>0</th>\n",
       "      <td>2000</td>\n",
       "      <td>Alberta</td>\n",
       "      <td>Attempted murder</td>\n",
       "      <td>35.0</td>\n",
       "      <td>1.16</td>\n",
       "    </tr>\n",
       "    <tr>\n",
       "      <th>1</th>\n",
       "      <td>2000</td>\n",
       "      <td>Alberta</td>\n",
       "      <td>Counterfeiting</td>\n",
       "      <td>137.0</td>\n",
       "      <td>4.56</td>\n",
       "    </tr>\n",
       "    <tr>\n",
       "      <th>2</th>\n",
       "      <td>2000</td>\n",
       "      <td>Alberta</td>\n",
       "      <td>Drug violations</td>\n",
       "      <td>6979.0</td>\n",
       "      <td>232.25</td>\n",
       "    </tr>\n",
       "    <tr>\n",
       "      <th>3</th>\n",
       "      <td>2000</td>\n",
       "      <td>Alberta</td>\n",
       "      <td>Firearms related crime</td>\n",
       "      <td>203.0</td>\n",
       "      <td>6.76</td>\n",
       "    </tr>\n",
       "    <tr>\n",
       "      <th>4</th>\n",
       "      <td>2000</td>\n",
       "      <td>Alberta</td>\n",
       "      <td>Fraud</td>\n",
       "      <td>11800.0</td>\n",
       "      <td>392.69</td>\n",
       "    </tr>\n",
       "    <tr>\n",
       "      <th>...</th>\n",
       "      <td>...</td>\n",
       "      <td>...</td>\n",
       "      <td>...</td>\n",
       "      <td>...</td>\n",
       "      <td>...</td>\n",
       "    </tr>\n",
       "    <tr>\n",
       "      <th>5018</th>\n",
       "      <td>2020</td>\n",
       "      <td>Yukon</td>\n",
       "      <td>Sexual violations against children</td>\n",
       "      <td>27.0</td>\n",
       "      <td>64.21</td>\n",
       "    </tr>\n",
       "    <tr>\n",
       "      <th>5019</th>\n",
       "      <td>2020</td>\n",
       "      <td>Yukon</td>\n",
       "      <td>Theft over $5,000</td>\n",
       "      <td>29.0</td>\n",
       "      <td>68.96</td>\n",
       "    </tr>\n",
       "    <tr>\n",
       "      <th>5020</th>\n",
       "      <td>2020</td>\n",
       "      <td>Yukon</td>\n",
       "      <td>Theft under $5,000</td>\n",
       "      <td>782.0</td>\n",
       "      <td>1859.60</td>\n",
       "    </tr>\n",
       "    <tr>\n",
       "      <th>5021</th>\n",
       "      <td>2020</td>\n",
       "      <td>Yukon</td>\n",
       "      <td>Trespass</td>\n",
       "      <td>8.0</td>\n",
       "      <td>19.02</td>\n",
       "    </tr>\n",
       "    <tr>\n",
       "      <th>5022</th>\n",
       "      <td>2020</td>\n",
       "      <td>Yukon</td>\n",
       "      <td>Weapons violations</td>\n",
       "      <td>62.0</td>\n",
       "      <td>147.44</td>\n",
       "    </tr>\n",
       "  </tbody>\n",
       "</table>\n",
       "<p>5023 rows × 5 columns</p>\n",
       "</div>"
      ],
      "text/plain": [
       "parameter  year  location                       type_of_crime  incidents  \\\n",
       "0          2000  Alberta                     Attempted murder       35.0   \n",
       "1          2000  Alberta                       Counterfeiting      137.0   \n",
       "2          2000  Alberta                      Drug violations     6979.0   \n",
       "3          2000  Alberta               Firearms related crime      203.0   \n",
       "4          2000  Alberta                                Fraud    11800.0   \n",
       "...         ...       ...                                 ...        ...   \n",
       "5018       2020    Yukon   Sexual violations against children       27.0   \n",
       "5019       2020    Yukon                    Theft over $5,000       29.0   \n",
       "5020       2020    Yukon                   Theft under $5,000      782.0   \n",
       "5021       2020    Yukon                             Trespass        8.0   \n",
       "5022       2020    Yukon                   Weapons violations       62.0   \n",
       "\n",
       "parameter  rate_per_100k  \n",
       "0                   1.16  \n",
       "1                   4.56  \n",
       "2                 232.25  \n",
       "3                   6.76  \n",
       "4                 392.69  \n",
       "...                  ...  \n",
       "5018               64.21  \n",
       "5019               68.96  \n",
       "5020             1859.60  \n",
       "5021               19.02  \n",
       "5022              147.44  \n",
       "\n",
       "[5023 rows x 5 columns]"
      ]
     },
     "execution_count": 26,
     "metadata": {},
     "output_type": "execute_result"
    }
   ],
   "source": [
    "data_pivot.reset_index(inplace = True)\n",
    "data_pivot"
   ]
  },
  {
   "cell_type": "code",
   "execution_count": 27,
   "metadata": {},
   "outputs": [
    {
     "data": {
      "text/html": [
       "<div>\n",
       "<style scoped>\n",
       "    .dataframe tbody tr th:only-of-type {\n",
       "        vertical-align: middle;\n",
       "    }\n",
       "\n",
       "    .dataframe tbody tr th {\n",
       "        vertical-align: top;\n",
       "    }\n",
       "\n",
       "    .dataframe thead th {\n",
       "        text-align: right;\n",
       "    }\n",
       "</style>\n",
       "<table border=\"1\" class=\"dataframe\">\n",
       "  <thead>\n",
       "    <tr style=\"text-align: right;\">\n",
       "      <th>parameter</th>\n",
       "      <th>year</th>\n",
       "      <th>location</th>\n",
       "      <th>type_of_crime</th>\n",
       "      <th>incidents</th>\n",
       "      <th>rate_per_100k</th>\n",
       "    </tr>\n",
       "  </thead>\n",
       "  <tbody>\n",
       "    <tr>\n",
       "      <th>0</th>\n",
       "      <td>2000</td>\n",
       "      <td>Alberta</td>\n",
       "      <td>Attempted murder</td>\n",
       "      <td>35.0</td>\n",
       "      <td>1.16</td>\n",
       "    </tr>\n",
       "    <tr>\n",
       "      <th>1</th>\n",
       "      <td>2000</td>\n",
       "      <td>Alberta</td>\n",
       "      <td>Counterfeiting</td>\n",
       "      <td>137.0</td>\n",
       "      <td>4.56</td>\n",
       "    </tr>\n",
       "    <tr>\n",
       "      <th>2</th>\n",
       "      <td>2000</td>\n",
       "      <td>Alberta</td>\n",
       "      <td>Drug violations</td>\n",
       "      <td>6979.0</td>\n",
       "      <td>232.25</td>\n",
       "    </tr>\n",
       "    <tr>\n",
       "      <th>3</th>\n",
       "      <td>2000</td>\n",
       "      <td>Alberta</td>\n",
       "      <td>Firearms related crime</td>\n",
       "      <td>203.0</td>\n",
       "      <td>6.76</td>\n",
       "    </tr>\n",
       "    <tr>\n",
       "      <th>4</th>\n",
       "      <td>2000</td>\n",
       "      <td>Alberta</td>\n",
       "      <td>Fraud</td>\n",
       "      <td>11800.0</td>\n",
       "      <td>392.69</td>\n",
       "    </tr>\n",
       "    <tr>\n",
       "      <th>...</th>\n",
       "      <td>...</td>\n",
       "      <td>...</td>\n",
       "      <td>...</td>\n",
       "      <td>...</td>\n",
       "      <td>...</td>\n",
       "    </tr>\n",
       "    <tr>\n",
       "      <th>5018</th>\n",
       "      <td>2020</td>\n",
       "      <td>Yukon</td>\n",
       "      <td>Sexual violations against children</td>\n",
       "      <td>27.0</td>\n",
       "      <td>64.21</td>\n",
       "    </tr>\n",
       "    <tr>\n",
       "      <th>5019</th>\n",
       "      <td>2020</td>\n",
       "      <td>Yukon</td>\n",
       "      <td>Theft over $5,000</td>\n",
       "      <td>29.0</td>\n",
       "      <td>68.96</td>\n",
       "    </tr>\n",
       "    <tr>\n",
       "      <th>5020</th>\n",
       "      <td>2020</td>\n",
       "      <td>Yukon</td>\n",
       "      <td>Theft under $5,000</td>\n",
       "      <td>782.0</td>\n",
       "      <td>1859.60</td>\n",
       "    </tr>\n",
       "    <tr>\n",
       "      <th>5021</th>\n",
       "      <td>2020</td>\n",
       "      <td>Yukon</td>\n",
       "      <td>Trespass</td>\n",
       "      <td>8.0</td>\n",
       "      <td>19.02</td>\n",
       "    </tr>\n",
       "    <tr>\n",
       "      <th>5022</th>\n",
       "      <td>2020</td>\n",
       "      <td>Yukon</td>\n",
       "      <td>Weapons violations</td>\n",
       "      <td>62.0</td>\n",
       "      <td>147.44</td>\n",
       "    </tr>\n",
       "  </tbody>\n",
       "</table>\n",
       "<p>4664 rows × 5 columns</p>\n",
       "</div>"
      ],
      "text/plain": [
       "parameter  year  location                       type_of_crime  incidents  \\\n",
       "0          2000  Alberta                     Attempted murder       35.0   \n",
       "1          2000  Alberta                       Counterfeiting      137.0   \n",
       "2          2000  Alberta                      Drug violations     6979.0   \n",
       "3          2000  Alberta               Firearms related crime      203.0   \n",
       "4          2000  Alberta                                Fraud    11800.0   \n",
       "...         ...       ...                                 ...        ...   \n",
       "5018       2020    Yukon   Sexual violations against children       27.0   \n",
       "5019       2020    Yukon                    Theft over $5,000       29.0   \n",
       "5020       2020    Yukon                   Theft under $5,000      782.0   \n",
       "5021       2020    Yukon                             Trespass        8.0   \n",
       "5022       2020    Yukon                   Weapons violations       62.0   \n",
       "\n",
       "parameter  rate_per_100k  \n",
       "0                   1.16  \n",
       "1                   4.56  \n",
       "2                 232.25  \n",
       "3                   6.76  \n",
       "4                 392.69  \n",
       "...                  ...  \n",
       "5018               64.21  \n",
       "5019               68.96  \n",
       "5020             1859.60  \n",
       "5021               19.02  \n",
       "5022              147.44  \n",
       "\n",
       "[4664 rows x 5 columns]"
      ]
     },
     "execution_count": 27,
     "metadata": {},
     "output_type": "execute_result"
    }
   ],
   "source": [
    "data_clean = data_pivot[data_pivot.location != \"Canada\"]\n",
    "data_clean"
   ]
  },
  {
   "cell_type": "code",
   "execution_count": 28,
   "metadata": {},
   "outputs": [
    {
     "name": "stdout",
     "output_type": "stream",
     "text": [
      "The clean dataset has 4664 number of rows and  5 number of columns.\n"
     ]
    }
   ],
   "source": [
    "print(\"The clean dataset has\",data_clean.shape[0],\"number of rows and \",data_clean.shape[1],\"number of columns.\")"
   ]
  },
  {
   "cell_type": "code",
   "execution_count": 29,
   "metadata": {},
   "outputs": [
    {
     "data": {
      "text/html": [
       "<div>\n",
       "<style scoped>\n",
       "    .dataframe tbody tr th:only-of-type {\n",
       "        vertical-align: middle;\n",
       "    }\n",
       "\n",
       "    .dataframe tbody tr th {\n",
       "        vertical-align: top;\n",
       "    }\n",
       "\n",
       "    .dataframe thead th {\n",
       "        text-align: right;\n",
       "    }\n",
       "</style>\n",
       "<table border=\"1\" class=\"dataframe\">\n",
       "  <thead>\n",
       "    <tr style=\"text-align: right;\">\n",
       "      <th>parameter</th>\n",
       "      <th>year</th>\n",
       "      <th>location</th>\n",
       "      <th>type_of_crime</th>\n",
       "      <th>incidents</th>\n",
       "      <th>rate_per_100k</th>\n",
       "    </tr>\n",
       "  </thead>\n",
       "  <tbody>\n",
       "    <tr>\n",
       "      <th>0</th>\n",
       "      <td>2000</td>\n",
       "      <td>Alberta</td>\n",
       "      <td>Attempted murder</td>\n",
       "      <td>35.0</td>\n",
       "      <td>1.16</td>\n",
       "    </tr>\n",
       "    <tr>\n",
       "      <th>1</th>\n",
       "      <td>2000</td>\n",
       "      <td>Alberta</td>\n",
       "      <td>Counterfeiting</td>\n",
       "      <td>137.0</td>\n",
       "      <td>4.56</td>\n",
       "    </tr>\n",
       "    <tr>\n",
       "      <th>2</th>\n",
       "      <td>2000</td>\n",
       "      <td>Alberta</td>\n",
       "      <td>Drug violations</td>\n",
       "      <td>6979.0</td>\n",
       "      <td>232.25</td>\n",
       "    </tr>\n",
       "    <tr>\n",
       "      <th>3</th>\n",
       "      <td>2000</td>\n",
       "      <td>Alberta</td>\n",
       "      <td>Firearms related crime</td>\n",
       "      <td>203.0</td>\n",
       "      <td>6.76</td>\n",
       "    </tr>\n",
       "    <tr>\n",
       "      <th>4</th>\n",
       "      <td>2000</td>\n",
       "      <td>Alberta</td>\n",
       "      <td>Fraud</td>\n",
       "      <td>11800.0</td>\n",
       "      <td>392.69</td>\n",
       "    </tr>\n",
       "    <tr>\n",
       "      <th>...</th>\n",
       "      <td>...</td>\n",
       "      <td>...</td>\n",
       "      <td>...</td>\n",
       "      <td>...</td>\n",
       "      <td>...</td>\n",
       "    </tr>\n",
       "    <tr>\n",
       "      <th>5018</th>\n",
       "      <td>2020</td>\n",
       "      <td>Yukon</td>\n",
       "      <td>Sexual violations against children</td>\n",
       "      <td>27.0</td>\n",
       "      <td>64.21</td>\n",
       "    </tr>\n",
       "    <tr>\n",
       "      <th>5019</th>\n",
       "      <td>2020</td>\n",
       "      <td>Yukon</td>\n",
       "      <td>Theft over $5,000</td>\n",
       "      <td>29.0</td>\n",
       "      <td>68.96</td>\n",
       "    </tr>\n",
       "    <tr>\n",
       "      <th>5020</th>\n",
       "      <td>2020</td>\n",
       "      <td>Yukon</td>\n",
       "      <td>Theft under $5,000</td>\n",
       "      <td>782.0</td>\n",
       "      <td>1859.60</td>\n",
       "    </tr>\n",
       "    <tr>\n",
       "      <th>5021</th>\n",
       "      <td>2020</td>\n",
       "      <td>Yukon</td>\n",
       "      <td>Trespass</td>\n",
       "      <td>8.0</td>\n",
       "      <td>19.02</td>\n",
       "    </tr>\n",
       "    <tr>\n",
       "      <th>5022</th>\n",
       "      <td>2020</td>\n",
       "      <td>Yukon</td>\n",
       "      <td>Weapons violations</td>\n",
       "      <td>62.0</td>\n",
       "      <td>147.44</td>\n",
       "    </tr>\n",
       "  </tbody>\n",
       "</table>\n",
       "<p>4664 rows × 5 columns</p>\n",
       "</div>"
      ],
      "text/plain": [
       "parameter  year  location                       type_of_crime  incidents  \\\n",
       "0          2000  Alberta                     Attempted murder       35.0   \n",
       "1          2000  Alberta                       Counterfeiting      137.0   \n",
       "2          2000  Alberta                      Drug violations     6979.0   \n",
       "3          2000  Alberta               Firearms related crime      203.0   \n",
       "4          2000  Alberta                                Fraud    11800.0   \n",
       "...         ...       ...                                 ...        ...   \n",
       "5018       2020    Yukon   Sexual violations against children       27.0   \n",
       "5019       2020    Yukon                    Theft over $5,000       29.0   \n",
       "5020       2020    Yukon                   Theft under $5,000      782.0   \n",
       "5021       2020    Yukon                             Trespass        8.0   \n",
       "5022       2020    Yukon                   Weapons violations       62.0   \n",
       "\n",
       "parameter  rate_per_100k  \n",
       "0                   1.16  \n",
       "1                   4.56  \n",
       "2                 232.25  \n",
       "3                   6.76  \n",
       "4                 392.69  \n",
       "...                  ...  \n",
       "5018               64.21  \n",
       "5019               68.96  \n",
       "5020             1859.60  \n",
       "5021               19.02  \n",
       "5022              147.44  \n",
       "\n",
       "[4664 rows x 5 columns]"
      ]
     },
     "execution_count": 29,
     "metadata": {},
     "output_type": "execute_result"
    }
   ],
   "source": [
    "data_clean"
   ]
  },
  {
   "cell_type": "code",
   "execution_count": 30,
   "metadata": {},
   "outputs": [
    {
     "data": {
      "text/plain": [
       "parameter\n",
       "year             0\n",
       "location         0\n",
       "type_of_crime    0\n",
       "incidents        0\n",
       "rate_per_100k    0\n",
       "dtype: int64"
      ]
     },
     "execution_count": 30,
     "metadata": {},
     "output_type": "execute_result"
    }
   ],
   "source": [
    "data_clean.isna().sum()"
   ]
  },
  {
   "cell_type": "markdown",
   "metadata": {},
   "source": [
    "Export clean dataset."
   ]
  },
  {
   "cell_type": "code",
   "execution_count": 31,
   "metadata": {},
   "outputs": [],
   "source": [
    "data_clean.to_excel(excel_writer = os.getcwd()+\"/clean_crime_canada_dataset.xlsx\", index = False)"
   ]
  },
  {
   "cell_type": "code",
   "execution_count": 32,
   "metadata": {},
   "outputs": [
    {
     "name": "stdout",
     "output_type": "stream",
     "text": [
      "Total runtime for the notebook is 1.04 seconds.\n"
     ]
    }
   ],
   "source": [
    "print(\"Total runtime for the notebook is\", round(time.time()-t0, 2), \"seconds.\")"
   ]
  },
  {
   "cell_type": "markdown",
   "metadata": {},
   "source": [
    "Author:\n",
    "\n",
    "Mangaljit Singh\n"
   ]
  }
 ],
 "metadata": {
  "interpreter": {
   "hash": "07ba029a63dcfa286f28eb3e41855caf70e98b697d744d736f4a475db6687448"
  },
  "kernelspec": {
   "display_name": "Python 3.9.12 ('base')",
   "language": "python",
   "name": "python3"
  },
  "language_info": {
   "codemirror_mode": {
    "name": "ipython",
    "version": 3
   },
   "file_extension": ".py",
   "mimetype": "text/x-python",
   "name": "python",
   "nbconvert_exporter": "python",
   "pygments_lexer": "ipython3",
   "version": "3.9.12"
  },
  "orig_nbformat": 4
 },
 "nbformat": 4,
 "nbformat_minor": 2
}
